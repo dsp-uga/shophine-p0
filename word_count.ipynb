{
 "cells": [
  {
   "cell_type": "code",
   "execution_count": 1,
   "metadata": {},
   "outputs": [],
   "source": [
    "from pyspark import SparkContext, SparkConf"
   ]
  },
  {
   "cell_type": "code",
   "execution_count": 2,
   "metadata": {},
   "outputs": [],
   "source": [
    "from operator import add"
   ]
  },
  {
   "cell_type": "code",
   "execution_count": 3,
   "metadata": {},
   "outputs": [],
   "source": [
    "conf = SparkConf().setMaster(\"local[*]\")\n",
    "sc = SparkContext.getOrCreate()"
   ]
  },
  {
   "cell_type": "code",
   "execution_count": 4,
   "metadata": {},
   "outputs": [],
   "source": [
    "def rdd_to_dictionary(rdd):\n",
    "    return sc.parallelize(rdd).collectAsMap()"
   ]
  },
  {
   "cell_type": "code",
   "execution_count": 5,
   "metadata": {},
   "outputs": [],
   "source": [
    "def write_json(dictionary,filename):\n",
    "    import json  \n",
    "\n",
    "    with open(filename, \"w\") as outfile:  \n",
    "        json.dump(dictionary, outfile) \n",
    "    "
   ]
  },
  {
   "cell_type": "code",
   "execution_count": 12,
   "metadata": {},
   "outputs": [],
   "source": [
    "data_bag = spark.read.text([\"data/4300-0.txt\",\"data/pg19033.txt\", \"data/pg36.txt\",\"data/pg514.txt\",\"data/pg1497.txt\",\"data/pg3207.txt\",\"data/pg42671.txt\",\"data/pg6130.txt\"]).rdd.map(lambda r: r[0])"
   ]
  },
  {
   "cell_type": "code",
   "execution_count": 13,
   "metadata": {},
   "outputs": [],
   "source": [
    "words_count = data_bag.flatMap(lambda x: x.split(' '))\\\n",
    "                .map(lambda x: x.lower()) \\\n",
    "                .map(lambda x: (x, 1))\\\n",
    "                .reduceByKey(add)\\\n",
    "                .filter(lambda x: x[1] > 1)\\\n",
    "                .filter(lambda x: len(x[0]) > 0)"
   ]
  },
  {
   "cell_type": "code",
   "execution_count": 14,
   "metadata": {},
   "outputs": [],
   "source": [
    "top_40_words = words_count.takeOrdered(40, key = lambda x: -x[1])\n",
    "top_40_words_dictionary = rdd_to_dictionary(top_40_words)"
   ]
  },
  {
   "cell_type": "code",
   "execution_count": 15,
   "metadata": {
    "scrolled": false
   },
   "outputs": [
    {
     "name": "stdout",
     "output_type": "stream",
     "text": [
      "{'the': 78844, 'and': 45168, 'of': 44739, 'to': 33436, 'a': 24234, 'in': 22126, 'that': 14818, 'he': 13019, 'is': 12918, 'his': 12270, 'i': 11044, 'with': 10296, 'for': 10036, 'as': 9639, 'be': 8834, 'was': 8787, 'not': 8141, 'it': 8123, 'but': 7856, 'by': 7701, 'or': 7407, 'her': 7403, 'they': 6735, 'which': 6517, 'you': 6354, 'on': 6214, 'from': 5811, 'at': 5695, 'are': 5590, 'she': 5458, 'all': 5437, 'their': 5285, 'have': 5146, 'had': 4647, 'this': 4090, 'my': 3841, 'so': 3710, 'we': 3629, 'no': 3620, 'if': 3571}\n"
     ]
    }
   ],
   "source": [
    " print(top_40_words_dictionary)\n"
   ]
  },
  {
   "cell_type": "code",
   "execution_count": 16,
   "metadata": {},
   "outputs": [],
   "source": [
    "write_json(top_40_words_dictionary,\"sp1.json\")"
   ]
  },
  {
   "cell_type": "code",
   "execution_count": 17,
   "metadata": {},
   "outputs": [],
   "source": [
    "stop_words_data_bag = spark.read.text(\"data/stopwords.txt\").rdd.map(lambda r: r[0])\n",
    "stop_words = stop_words_data_bag.flatMap(lambda x: x.split('\\n'))\\\n",
    "                .map(lambda x: x.lower()).map(lambda x: (x, 1)).reduceByKey(add)\n",
    "# print(stop_words.collect())"
   ]
  },
  {
   "cell_type": "code",
   "execution_count": 18,
   "metadata": {},
   "outputs": [],
   "source": [
    "top_40_words_without_stop_words = words_count.subtractByKey(stop_words).takeOrdered(40, key = lambda x: -x[1])\n",
    "\n",
    "# print(top_40_words_without_stop_words)"
   ]
  },
  {
   "cell_type": "code",
   "execution_count": 19,
   "metadata": {},
   "outputs": [
    {
     "name": "stdout",
     "output_type": "stream",
     "text": [
      "{'i': 11044, 'not': 8141, 'you': 6354, 'have': 5146, 'no': 3620, 'one': 3498, 'like': 2253, 'more': 2087, 'out': 2021, 'up': 1831, 'man': 1783, 'now': 1579, 'only': 1555, 'must': 1523, 'little': 1485, 'those': 1447, 'good': 1444, 'should': 1417, 'after': 1379, 'great': 1358, 'every': 1356, 'first': 1318, 'own': 1289, 'did': 1271, 'how': 1266, 'see': 1251, 'these': 1244, 'men': 1233, 'over': 1209, 'where': 1205, 'make': 1196, 'upon': 1188, 'nor': 1181, 'never': 1177, 'much': 1167, 'time': 1166, 'said,': 1163, 'two': 1142, 'old': 1140, 'made': 1128}\n"
     ]
    }
   ],
   "source": [
    "top_40_words_without_stop_words_dictionary = rdd_to_dictionary(top_40_words_without_stop_words)\n",
    "print(top_40_words_without_stop_words_dictionary)"
   ]
  },
  {
   "cell_type": "code",
   "execution_count": 20,
   "metadata": {},
   "outputs": [],
   "source": [
    "write_json(top_40_words_without_stop_words_dictionary,\"sp2.json\")"
   ]
  },
  {
   "cell_type": "code",
   "execution_count": 21,
   "metadata": {},
   "outputs": [],
   "source": [
    "def trimPunctuation(word):\n",
    "    if word[0] in punctuation:\n",
    "        return word[1:]\n",
    "    elif word[-1] in punctuation:\n",
    "        return word[:-1]\n",
    "    else:\n",
    "        return word"
   ]
  },
  {
   "cell_type": "code",
   "execution_count": 22,
   "metadata": {},
   "outputs": [],
   "source": [
    "punctuation = [\".\",\",\",\":\",\";\",\"'\",\"!\",\"?\"];"
   ]
  },
  {
   "cell_type": "code",
   "execution_count": 23,
   "metadata": {},
   "outputs": [],
   "source": [
    "words_without_stop_words = words_count.subtractByKey(stop_words)\n",
    "# print(words_without_stop_words.collect())"
   ]
  },
  {
   "cell_type": "code",
   "execution_count": 24,
   "metadata": {},
   "outputs": [],
   "source": [
    "words_without_punctuation = words_without_stop_words.map(lambda x: (trimPunctuation(x[0]), x[1]))\n",
    "# print(words_without_punctuation.collect())"
   ]
  },
  {
   "cell_type": "code",
   "execution_count": 25,
   "metadata": {},
   "outputs": [],
   "source": [
    "top_40_words_without_punctuation = words_without_punctuation.subtractByKey(stop_words).takeOrdered(40, key = lambda x: -x[1])\n",
    "# print(top_40_words_without_punctuation)"
   ]
  },
  {
   "cell_type": "code",
   "execution_count": 26,
   "metadata": {},
   "outputs": [
    {
     "name": "stdout",
     "output_type": "stream",
     "text": [
      "{'i': 11044, 'not': 8141, 'you': 6354, 'have': 5146, 'no': 3620, 'one': 3498, 'like': 2253, 'more': 2087, 'out': 2021, 'up': 1831, 'man': 1783, 'now': 1579, 'only': 1555, 'must': 1523, 'little': 1485, 'those': 1447, 'good': 1444, 'should': 1417, 'after': 1379, 'great': 1358, 'every': 1356, 'first': 1318, 'own': 1289, 'did': 1271, 'how': 1266, 'see': 1251, 'these': 1244, 'men': 1233, 'over': 1209, 'where': 1205, 'make': 1196, 'upon': 1188, 'nor': 1181, 'never': 1177, 'much': 1167, 'time': 1166, 'two': 1142, 'old': 1140, 'made': 1128, 'most': 1114}\n"
     ]
    }
   ],
   "source": [
    "top_40_words_without_punctuation_dictionary = rdd_to_dictionary(top_40_words_without_punctuation)\n",
    "print(top_40_words_without_punctuation_dictionary)"
   ]
  },
  {
   "cell_type": "code",
   "execution_count": 27,
   "metadata": {},
   "outputs": [],
   "source": [
    "write_json(top_40_words_without_punctuation_dictionary,\"sp3.json\")"
   ]
  },
  {
   "cell_type": "code",
   "execution_count": 9,
   "metadata": {},
   "outputs": [],
   "source": [
    "sc.stop()"
   ]
  }
 ],
 "metadata": {
  "kernelspec": {
   "display_name": "Python 3",
   "language": "python",
   "name": "python3"
  },
  "language_info": {
   "codemirror_mode": {
    "name": "ipython",
    "version": 3
   },
   "file_extension": ".py",
   "mimetype": "text/x-python",
   "name": "python",
   "nbconvert_exporter": "python",
   "pygments_lexer": "ipython3",
   "version": "3.8.5"
  }
 },
 "nbformat": 4,
 "nbformat_minor": 4
}
