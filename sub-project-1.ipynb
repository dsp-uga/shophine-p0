{
 "cells": [
  {
   "cell_type": "code",
   "execution_count": 2,
   "metadata": {},
   "outputs": [],
   "source": [
    "from pyspark import SparkContext, SparkConf"
   ]
  },
  {
   "cell_type": "code",
   "execution_count": 3,
   "metadata": {},
   "outputs": [],
   "source": [
    "from operator import add"
   ]
  },
  {
   "cell_type": "code",
   "execution_count": 4,
   "metadata": {},
   "outputs": [],
   "source": [
    "conf = SparkConf().setMaster(\"local[*]\")\n",
    "sc = SparkContext.getOrCreate()"
   ]
  },
  {
   "cell_type": "code",
   "execution_count": 5,
   "metadata": {},
   "outputs": [],
   "source": [
    "def rdd_to_dictionary(rdd):\n",
    "    return sc.parallelize(rdd).collectAsMap()"
   ]
  },
  {
   "cell_type": "code",
   "execution_count": 6,
   "metadata": {},
   "outputs": [],
   "source": [
    "def write_json(dictionary,filename):\n",
    "    import json  \n",
    "\n",
    "    with open(filename, \"w\") as outfile:  \n",
    "        json.dump(dictionary, outfile)    "
   ]
  },
  {
   "cell_type": "code",
   "execution_count": 7,
   "metadata": {},
   "outputs": [],
   "source": [
    "documents = [\"data/4300-0.txt\",\"data/pg19033.txt\", \"data/pg36.txt\",\"data/pg514.txt\",\"data/pg1497.txt\",\"data/pg3207.txt\",\"data/pg42671.txt\",\"data/pg6130.txt\"]\n",
    "data_bag = spark.read.text(documents).rdd.map(lambda r: r[0])"
   ]
  },
  {
   "cell_type": "code",
   "execution_count": 8,
   "metadata": {},
   "outputs": [],
   "source": [
    "words_count = data_bag.flatMap(lambda x: x.strip().split())\\\n",
    "                .map(lambda x: x.lower()) \\\n",
    "                .map(lambda x: (x, 1))\\\n",
    "                .reduceByKey(add)\\\n",
    "                .filter(lambda x: x[1] > 1)\n",
    "# type(words_count.collect())"
   ]
  },
  {
   "cell_type": "code",
   "execution_count": 9,
   "metadata": {},
   "outputs": [],
   "source": [
    "top_40_words = words_count.takeOrdered(40, key = lambda x: -x[1])\n",
    "# type(top_40_words)"
   ]
  },
  {
   "cell_type": "code",
   "execution_count": 10,
   "metadata": {
    "scrolled": false
   },
   "outputs": [
    {
     "name": "stdout",
     "output_type": "stream",
     "text": [
      "{'the': 78844, 'and': 45168, 'of': 44739, 'to': 33436, 'a': 24234, 'in': 22126, 'that': 14818, 'he': 13019, 'is': 12918, 'his': 12270, 'i': 11044, 'with': 10296, 'for': 10036, 'as': 9639, 'be': 8834, 'was': 8787, 'not': 8141, 'it': 8123, 'but': 7856, 'by': 7701, 'or': 7407, 'her': 7403, 'they': 6735, 'which': 6517, 'you': 6354, 'on': 6214, 'from': 5811, 'at': 5695, 'are': 5590, 'she': 5458, 'all': 5437, 'their': 5285, 'have': 5146, 'had': 4647, 'this': 4090, 'my': 3841, 'so': 3710, 'we': 3629, 'no': 3620, 'if': 3571}\n"
     ]
    }
   ],
   "source": [
    "top_40_words_dictionary = rdd_to_dictionary(top_40_words)\n",
    "print(top_40_words_dictionary)\n"
   ]
  },
  {
   "cell_type": "code",
   "execution_count": 11,
   "metadata": {},
   "outputs": [],
   "source": [
    "write_json(top_40_words_dictionary,\"sp1.json\")"
   ]
  },
  {
   "cell_type": "code",
   "execution_count": 12,
   "metadata": {},
   "outputs": [],
   "source": [
    "sc.stop()"
   ]
  },
  {
   "cell_type": "code",
   "execution_count": null,
   "metadata": {},
   "outputs": [],
   "source": []
  }
 ],
 "metadata": {
  "kernelspec": {
   "display_name": "Python 3",
   "language": "python",
   "name": "python3"
  },
  "language_info": {
   "codemirror_mode": {
    "name": "ipython",
    "version": 3
   },
   "file_extension": ".py",
   "mimetype": "text/x-python",
   "name": "python",
   "nbconvert_exporter": "python",
   "pygments_lexer": "ipython3",
   "version": "3.8.5"
  }
 },
 "nbformat": 4,
 "nbformat_minor": 4
}
