{
 "cells": [
  {
   "cell_type": "code",
   "execution_count": 56,
   "metadata": {},
   "outputs": [],
   "source": [
    "from pyspark import SparkContext, SparkConf"
   ]
  },
  {
   "cell_type": "code",
   "execution_count": 57,
   "metadata": {},
   "outputs": [],
   "source": [
    "from operator import add"
   ]
  },
  {
   "cell_type": "code",
   "execution_count": 58,
   "metadata": {},
   "outputs": [],
   "source": [
    "conf = SparkConf().setMaster(\"local[*]\")\n",
    "sc = SparkContext.getOrCreate()"
   ]
  },
  {
   "cell_type": "code",
   "execution_count": 59,
   "metadata": {},
   "outputs": [],
   "source": [
    "def rdd_to_dictionary(rdd):\n",
    "    return sc.parallelize(rdd).collectAsMap()"
   ]
  },
  {
   "cell_type": "code",
   "execution_count": 60,
   "metadata": {},
   "outputs": [],
   "source": [
    "def write_json(dictionary,filename):\n",
    "    import json  \n",
    "\n",
    "    with open(filename, \"w\") as outfile:  \n",
    "        json.dump(dictionary, outfile)    "
   ]
  },
  {
   "cell_type": "code",
   "execution_count": 71,
   "metadata": {},
   "outputs": [],
   "source": [
    "def trimPunctuation(word):\n",
    "    if word[0] in punctuation:\n",
    "        return word[1:]\n",
    "    elif word[-1] in punctuation:\n",
    "        return word[:-1]\n",
    "    else:\n",
    "        return word"
   ]
  },
  {
   "cell_type": "code",
   "execution_count": 72,
   "metadata": {},
   "outputs": [],
   "source": [
    "documents = [\"data/4300-0.txt\",\"data/pg19033.txt\", \"data/pg36.txt\",\"data/pg514.txt\",\"data/pg1497.txt\",\"data/pg3207.txt\",\"data/pg42671.txt\",\"data/pg6130.txt\"]\n",
    "data_bag = spark.read.text(documents).rdd.map(lambda r: r[0])"
   ]
  },
  {
   "cell_type": "code",
   "execution_count": 73,
   "metadata": {},
   "outputs": [],
   "source": [
    "words_count = data_bag.flatMap(lambda x: x.split(' '))\\\n",
    "                .map(lambda x: x.lower()) \\\n",
    "                .map(lambda x: (x, 1))\\\n",
    "                .reduceByKey(add)\\\n",
    "                .filter(lambda x: x[1] > 1)\\\n",
    "                .filter(lambda x: len(x[0]) > 0)\n",
    "#print(words_count.count())"
   ]
  },
  {
   "cell_type": "code",
   "execution_count": 74,
   "metadata": {},
   "outputs": [],
   "source": [
    "punctuation = [\".\",\",\",\":\",\";\",\"'\",\"!\",\"?\"];\n",
    "words_without_punctuation = words_count.map(lambda x: (trimPunctuation(x[0]), x[1])).reduceByKey(add)\n",
    "#print(words_without_punctuation.count())"
   ]
  },
  {
   "cell_type": "code",
   "execution_count": 75,
   "metadata": {},
   "outputs": [],
   "source": [
    "stop_words_data_bag = spark.read.text(\"data/stopwords.txt\").rdd.map(lambda r: r[0])\n",
    "stop_words = stop_words_data_bag.flatMap(lambda x: x.split('\\n'))\\\n",
    "                .map(lambda x: x.lower()).map(lambda x: (x, 1))\\\n",
    "                .reduceByKey(add)\\\n",
    "                .filter(lambda x: len(x[0]) > 0)\n",
    "# print(stop_words.count())"
   ]
  },
  {
   "cell_type": "code",
   "execution_count": 76,
   "metadata": {},
   "outputs": [],
   "source": [
    "words_without_punct_stop_words = words_without_punctuation.subtractByKey(stop_words)\n",
    "\n",
    "# print(words_without_punct_stop_words.count())"
   ]
  },
  {
   "cell_type": "code",
   "execution_count": 77,
   "metadata": {},
   "outputs": [],
   "source": [
    "top_40_words_without_punct_stop_words = words_without_punct_stop_words.takeOrdered(40, key = lambda x: -x[1])\n"
   ]
  },
  {
   "cell_type": "code",
   "execution_count": 78,
   "metadata": {},
   "outputs": [],
   "source": [
    "top_40_words_without_punct_stop_words_dictionary = rdd_to_dictionary(top_40_words_without_punct_stop_words)\n",
    "# print(top_40_words_without_punct_stop_words_dictionary)"
   ]
  },
  {
   "cell_type": "code",
   "execution_count": 79,
   "metadata": {},
   "outputs": [],
   "source": [
    "write_json(top_40_words_without_punct_stop_words_dictionary,\"sp3.json\")"
   ]
  },
  {
   "cell_type": "code",
   "execution_count": 80,
   "metadata": {},
   "outputs": [],
   "source": [
    "sc.stop()"
   ]
  },
  {
   "cell_type": "code",
   "execution_count": null,
   "metadata": {},
   "outputs": [],
   "source": []
  }
 ],
 "metadata": {
  "kernelspec": {
   "display_name": "Python 3",
   "language": "python",
   "name": "python3"
  },
  "language_info": {
   "codemirror_mode": {
    "name": "ipython",
    "version": 3
   },
   "file_extension": ".py",
   "mimetype": "text/x-python",
   "name": "python",
   "nbconvert_exporter": "python",
   "pygments_lexer": "ipython3",
   "version": "3.8.5"
  }
 },
 "nbformat": 4,
 "nbformat_minor": 4
}
