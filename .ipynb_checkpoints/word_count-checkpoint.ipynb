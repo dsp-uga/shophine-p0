{
 "cells": [
  {
   "cell_type": "code",
   "execution_count": 70,
   "metadata": {},
   "outputs": [],
   "source": [
    "from pyspark import SparkContext, SparkConf"
   ]
  },
  {
   "cell_type": "code",
   "execution_count": 71,
   "metadata": {},
   "outputs": [],
   "source": [
    "from operator import add"
   ]
  },
  {
   "cell_type": "code",
   "execution_count": 72,
   "metadata": {},
   "outputs": [],
   "source": [
    "conf = SparkConf().setMaster(\"local[*]\")\n",
    "sc = SparkContext.getOrCreate()"
   ]
  },
  {
   "cell_type": "code",
   "execution_count": 73,
   "metadata": {},
   "outputs": [],
   "source": [
    "def rdd_to_dictionary(rdd):\n",
    "    return sc.parallelize(rdd).collectAsMap()"
   ]
  },
  {
   "cell_type": "code",
   "execution_count": 74,
   "metadata": {},
   "outputs": [],
   "source": [
    "def write_json(dictionary,filename):\n",
    "    import json  \n",
    "\n",
    "    with open(filename, \"w\") as outfile:  \n",
    "        json.dump(dictionary, outfile) \n",
    "    "
   ]
  },
  {
   "cell_type": "code",
   "execution_count": 75,
   "metadata": {},
   "outputs": [],
   "source": [
    "data_bag = spark.read.text([\"data/4300-0.txt\",\"data/pg19033.txt\", \"data/pg36.txt\",\"data/pg514.txt\",\"data/pg1497.txt\",\"data/pg3207.txt\",\"data/pg42671.txt\",\"data/pg6130.txt\"]).rdd.map(lambda r: r[0])"
   ]
  },
  {
   "cell_type": "code",
   "execution_count": 76,
   "metadata": {},
   "outputs": [],
   "source": [
    "words_count = data_bag.flatMap(lambda x: x.split(' '))\\\n",
    "                .map(lambda x: x.lower()) \\\n",
    "                .map(lambda x: (x, 1))\\\n",
    "                .reduceByKey(add)\\\n",
    "                .filter(lambda x: x[1] > 1)\\\n",
    "                .filter(lambda x: len(x[0]) > 0)"
   ]
  },
  {
   "cell_type": "code",
   "execution_count": 77,
   "metadata": {},
   "outputs": [],
   "source": [
    "top_40_words = words_count.takeOrdered(40, key = lambda x: -x[1])\n",
    "top_40_words_dictionary = rdd_to_dictionary(top_40_words)"
   ]
  },
  {
   "cell_type": "code",
   "execution_count": 79,
   "metadata": {},
   "outputs": [],
   "source": [
    "write_json(top_40_words_dictionary,\"sp1.json\")"
   ]
  },
  {
   "cell_type": "code",
   "execution_count": 80,
   "metadata": {},
   "outputs": [],
   "source": [
    "stop_words_data_bag = spark.read.text(\"data/stopwords.txt\").rdd.map(lambda r: r[0])\n",
    "stop_words = stop_words_data_bag.flatMap(lambda x: x.split('\\n'))\\\n",
    "                .map(lambda x: x.lower()).map(lambda x: (x, 1)).reduceByKey(add)\n",
    "# print(stop_words.collect())"
   ]
  },
  {
   "cell_type": "code",
   "execution_count": 81,
   "metadata": {},
   "outputs": [],
   "source": [
    "top_40_words_without_stop_words = words_count.subtractByKey(stop_words).takeOrdered(40, key = lambda x: -x[1])\n",
    "\n",
    "# print(top_40_words_without_stop_words)"
   ]
  },
  {
   "cell_type": "code",
   "execution_count": 82,
   "metadata": {},
   "outputs": [],
   "source": [
    "top_40_words_without_stop_words_dictionary = rdd_to_dictionary(top_40_words_without_stop_words)\n",
    "# print(top_40_words_without_stop_words_dictionary)"
   ]
  },
  {
   "cell_type": "code",
   "execution_count": 83,
   "metadata": {},
   "outputs": [],
   "source": [
    "write_json(top_40_words_without_stop_words_dictionary,\"sp2.json\")"
   ]
  },
  {
   "cell_type": "code",
   "execution_count": 9,
   "metadata": {},
   "outputs": [],
   "source": [
    "sc.stop()"
   ]
  }
 ],
 "metadata": {
  "kernelspec": {
   "display_name": "Python 3",
   "language": "python",
   "name": "python3"
  },
  "language_info": {
   "codemirror_mode": {
    "name": "ipython",
    "version": 3
   },
   "file_extension": ".py",
   "mimetype": "text/x-python",
   "name": "python",
   "nbconvert_exporter": "python",
   "pygments_lexer": "ipython3",
   "version": "3.8.5"
  }
 },
 "nbformat": 4,
 "nbformat_minor": 4
}
